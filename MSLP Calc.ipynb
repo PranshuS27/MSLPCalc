{
 "cells": [
  {
   "cell_type": "code",
   "execution_count": 308,
   "id": "3944e3ed",
   "metadata": {},
   "outputs": [
    {
     "data": {
      "text/plain": [
       "0.958186590994409"
      ]
     },
     "execution_count": 308,
     "metadata": {},
     "output_type": "execute_result"
    }
   ],
   "source": [
    "import pandas as pd \n",
    "from sklearn.tree import DecisionTreeClassifier\n",
    "from sklearn.model_selection import train_test_split \n",
    "from sklearn.metrics import accuracy_score\n",
    "from sklearn.discriminant_analysis import QuadraticDiscriminantAnalysis\n",
    "from sklearn import tree \n",
    "from sklearn.gaussian_process import GaussianProcessRegressor\n",
    "from sklearn.gaussian_process.kernels import DotProduct, WhiteKernel\n",
    "\n",
    "\n",
    "wxData = pd.read_csv('mslp.csv')\n",
    "x = wxData.drop(columns=['MSLP'])\n",
    "y = wxData['MSLP']\n",
    "x_train, x_test, y_train, y_test = train_test_split(x,y,test_size = 0.1)\n",
    "gpr = GaussianProcessRegressor(kernel=None,random_state=0).fit(x, y)\n",
    "\n",
    "gpr.score(x, y)"
   ]
  },
  {
   "cell_type": "code",
   "execution_count": null,
   "id": "e3460c64",
   "metadata": {},
   "outputs": [],
   "source": []
  }
 ],
 "metadata": {
  "kernelspec": {
   "display_name": "Python 3 (ipykernel)",
   "language": "python",
   "name": "python3"
  },
  "language_info": {
   "codemirror_mode": {
    "name": "ipython",
    "version": 3
   },
   "file_extension": ".py",
   "mimetype": "text/x-python",
   "name": "python",
   "nbconvert_exporter": "python",
   "pygments_lexer": "ipython3",
   "version": "3.11.3"
  }
 },
 "nbformat": 4,
 "nbformat_minor": 5
}
